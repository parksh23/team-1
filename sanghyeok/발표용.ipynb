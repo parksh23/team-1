{
  "nbformat": 4,
  "nbformat_minor": 0,
  "metadata": {
    "colab": {
      "provenance": [],
      "authorship_tag": "ABX9TyNlFjVHEQW7PBZqrJKVwxLc",
      "include_colab_link": true
    },
    "kernelspec": {
      "name": "python3",
      "display_name": "Python 3"
    },
    "language_info": {
      "name": "python"
    }
  },
  "cells": [
    {
      "cell_type": "markdown",
      "metadata": {
        "id": "view-in-github",
        "colab_type": "text"
      },
      "source": [
        "<a href=\"https://colab.research.google.com/github/parksh23/team-1/blob/main/sanghyeok/%EB%B0%9C%ED%91%9C%EC%9A%A9.ipynb\" target=\"_parent\"><img src=\"https://colab.research.google.com/assets/colab-badge.svg\" alt=\"Open In Colab\"/></a>"
      ]
    },
    {
      "cell_type": "markdown",
      "source": [
        "# 2-1장 훈련세트와 테스트세트\n",
        "\n",
        "## K-Nearest Neighbors 분류 모델\n",
        "\n",
        "### 데이터 소개\n",
        "\n",
        "*   물고기의 길이와 무게데이터를 사용, 분류 모델을 만들고자 함\n",
        "*   길이와 무게는 물고기의 특징으로 사용\n",
        "*   fish_length 리스트\n",
        "*   fish_weight 리스트\n",
        "*   fish_data\n",
        "*   fish_target\n",
        "\n",
        "### 모델 학습 및 평가\n",
        "\n",
        "KNN 분류 모델을 생성하고 초기화함.\n",
        "훈련 데이터(train_input, train_target)를 사용, 모델 학습\n",
        "테스트 데이터(test_input, test_target)에 대한 예측 정확도 점수 계산\n",
        "정확도 점수 출력\n",
        "\n",
        "### 샘플링 편향의 문제\n",
        "\n",
        "테스트 세트에 샘플이 골고루 섞여 있지 않으면 일어나는 상황\n",
        "이 문제를 해결하기 위하여 넘파이 라이브러리를 활용, 2차원 배열 생성\n",
        "shuffle()을 활용하여 인덱스를 랜덤으로 섞음\n",
        "\n",
        "### 시각화\n",
        "\n",
        "matplotlib를 사용하여 훈련 세트와 테스트 세트의 산점도 그리기\n",
        "x축은 \"길이\", y출은 \"무게\"로 설정\n",
        "\n",
        "# 퀴즈\n",
        "K-Nearest Neighbors 은 지도학습 알고리즘 중 하나이다  T/F\n",
        "\n",
        "해당 장에서 샘플링 편향을 해결하기 위해 사용한 파이썬 라이브러리의 이름은?\n",
        "\n"
      ],
      "metadata": {
        "id": "W31wJHSP5Cwc"
      }
    },
    {
      "cell_type": "code",
      "source": [],
      "metadata": {
        "id": "sn0vZK8CRwAQ"
      },
      "execution_count": null,
      "outputs": []
    }
  ]
}